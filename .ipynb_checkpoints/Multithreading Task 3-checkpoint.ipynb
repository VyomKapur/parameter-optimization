{
 "cells": [
  {
   "cell_type": "code",
   "execution_count": 5,
   "id": "1c68fcec",
   "metadata": {},
   "outputs": [],
   "source": [
    "import os, sys, time, threading, multiprocessing, random as r\n",
    "from tkinter import *"
   ]
  },
  {
   "cell_type": "code",
   "execution_count": 6,
   "id": "5d56b43f",
   "metadata": {},
   "outputs": [],
   "source": [
    "disp = [(0, 0), (10, 10), (10, 20), (20, 20), (30, 30), (40, 40), (50, 50)]\n",
    "\n",
    "def task(lb, ub, refreshTime, displayLocation):\n",
    "    while(1):\n",
    "        num = r.randint(lb, ub)\n",
    "        label1 = Label(root, text=num, font=('Times New Roman bold',20))\n",
    "        label1.pack(padx=disp[displayLocation][0], pady=disp[displayLocation][1])\n",
    "        time.sleep(refreshTime)\n",
    "        label1.destroy()\n",
    "    return"
   ]
  },
  {
   "cell_type": "code",
   "execution_count": 7,
   "id": "a9d4963b",
   "metadata": {},
   "outputs": [],
   "source": [
    "t1 = threading.Thread(target=task, args=(10, 20, 10, 1))\n",
    "t2 = threading.Thread(target=task, args=(-10, 10, 20, 2))\n",
    "t3 = threading.Thread(target=task, args=(-100, 0, 8, 3))\n",
    "t4 = threading.Thread(target=task, args=(0, 20, 12, 4))\n",
    "t5 = threading.Thread(target=task, args=(-40, 40, 16, 5))\n",
    "t6 = threading.Thread(target=task, args=(100, 200, 14, 6))"
   ]
  },
  {
   "cell_type": "code",
   "execution_count": 8,
   "id": "bd40f483",
   "metadata": {},
   "outputs": [
    {
     "name": "stderr",
     "output_type": "stream",
     "text": [
      "Exception in thread Thread-11:\n",
      "Traceback (most recent call last):\n",
      "  File \"/home/movy/anaconda3/lib/python3.9/threading.py\", line 980, in _bootstrap_inner\n",
      "    self.run()\n",
      "  File \"/home/movy/anaconda3/lib/python3.9/threading.py\", line 917, in run\n",
      "    self._target(*self._args, **self._kwargs)\n",
      "  File \"/tmp/ipykernel_67773/583967463.py\", line 9, in task\n",
      "  File \"/home/movy/anaconda3/lib/python3.9/tkinter/__init__.py\", line 2580, in destroy\n",
      "    self.tk.call('destroy', self._w)\n",
      "RuntimeError: main thread is not in main loop\n",
      "Exception in thread Thread-15:\n",
      "Traceback (most recent call last):\n",
      "  File \"/home/movy/anaconda3/lib/python3.9/threading.py\", line 980, in _bootstrap_inner\n",
      "    self.run()\n",
      "  File \"/home/movy/anaconda3/lib/python3.9/threading.py\", line 917, in run\n",
      "    self._target(*self._args, **self._kwargs)\n",
      "  File \"/tmp/ipykernel_67773/583967463.py\", line 9, in task\n",
      "  File \"/home/movy/anaconda3/lib/python3.9/tkinter/__init__.py\", line 2580, in destroy\n",
      "    self.tk.call('destroy', self._w)\n",
      "RuntimeError: main thread is not in main loop\n",
      "Exception in thread Thread-13:\n",
      "Traceback (most recent call last):\n",
      "  File \"/home/movy/anaconda3/lib/python3.9/threading.py\", line 980, in _bootstrap_inner\n",
      "    self.run()\n",
      "  File \"/home/movy/anaconda3/lib/python3.9/threading.py\", line 917, in run\n",
      "    self._target(*self._args, **self._kwargs)\n",
      "  File \"/tmp/ipykernel_67773/583967463.py\", line 9, in task\n",
      "  File \"/home/movy/anaconda3/lib/python3.9/tkinter/__init__.py\", line 2580, in destroy\n",
      "    self.tk.call('destroy', self._w)\n",
      "RuntimeError: main thread is not in main loop\n",
      "Exception in thread Thread-14:\n",
      "Traceback (most recent call last):\n",
      "  File \"/home/movy/anaconda3/lib/python3.9/threading.py\", line 980, in _bootstrap_inner\n",
      "    self.run()\n",
      "  File \"/home/movy/anaconda3/lib/python3.9/threading.py\", line 917, in run\n",
      "    self._target(*self._args, **self._kwargs)\n",
      "  File \"/tmp/ipykernel_67773/583967463.py\", line 9, in task\n",
      "  File \"/home/movy/anaconda3/lib/python3.9/tkinter/__init__.py\", line 2580, in destroy\n",
      "    self.tk.call('destroy', self._w)\n",
      "RuntimeError: main thread is not in main loop\n",
      "Exception in thread Thread-12:\n",
      "Traceback (most recent call last):\n",
      "  File \"/home/movy/anaconda3/lib/python3.9/threading.py\", line 980, in _bootstrap_inner\n",
      "    self.run()\n",
      "  File \"/home/movy/anaconda3/lib/python3.9/threading.py\", line 917, in run\n",
      "    self._target(*self._args, **self._kwargs)\n",
      "  File \"/tmp/ipykernel_67773/583967463.py\", line 9, in task\n",
      "  File \"/home/movy/anaconda3/lib/python3.9/tkinter/__init__.py\", line 2580, in destroy\n",
      "    self.tk.call('destroy', self._w)\n",
      "RuntimeError: main thread is not in main loop\n",
      "Exception in thread Thread-16:\n",
      "Traceback (most recent call last):\n",
      "  File \"/home/movy/anaconda3/lib/python3.9/threading.py\", line 980, in _bootstrap_inner\n",
      "    self.run()\n",
      "  File \"/home/movy/anaconda3/lib/python3.9/threading.py\", line 917, in run\n",
      "    self._target(*self._args, **self._kwargs)\n",
      "  File \"/tmp/ipykernel_67773/583967463.py\", line 9, in task\n",
      "  File \"/home/movy/anaconda3/lib/python3.9/tkinter/__init__.py\", line 2580, in destroy\n",
      "    self.tk.call('destroy', self._w)\n",
      "RuntimeError: main thread is not in main loop\n"
     ]
    }
   ],
   "source": [
    "root = Tk()\n",
    "root.title('Display')\n",
    "root.geometry(\"600x600\")\n",
    "t1.start()\n",
    "t2.start()\n",
    "t3.start()\n",
    "t4.start()\n",
    "t5.start()\n",
    "t6.start()\n",
    "root.mainloop()"
   ]
  }
 ],
 "metadata": {
  "kernelspec": {
   "display_name": "Python 3 (ipykernel)",
   "language": "python",
   "name": "python3"
  },
  "language_info": {
   "codemirror_mode": {
    "name": "ipython",
    "version": 3
   },
   "file_extension": ".py",
   "mimetype": "text/x-python",
   "name": "python",
   "nbconvert_exporter": "python",
   "pygments_lexer": "ipython3",
   "version": "3.9.13"
  }
 },
 "nbformat": 4,
 "nbformat_minor": 5
}
